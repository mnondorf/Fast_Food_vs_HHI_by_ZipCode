{
 "cells": [
  {
   "cell_type": "code",
   "execution_count": 1,
   "id": "af97d80d",
   "metadata": {},
   "outputs": [],
   "source": [
    "import pandas as pd\n",
    "from sklearn import linear_model\n",
    "import statsmodels.api as sm"
   ]
  },
  {
   "cell_type": "code",
   "execution_count": 2,
   "id": "a54b0284",
   "metadata": {},
   "outputs": [],
   "source": [
    "df = pd.read_csv(\"five_types.csv\")"
   ]
  },
  {
   "cell_type": "code",
   "execution_count": 24,
   "id": "0734c9bd",
   "metadata": {},
   "outputs": [],
   "source": [
    "X = df[['burger_count','hotdog_count','mex_count']].fillna(0) \n",
    "Y = df['median'].fillna(0)\n",
    "\n"
   ]
  },
  {
   "cell_type": "code",
   "execution_count": 25,
   "id": "41be6fff",
   "metadata": {},
   "outputs": [
    {
     "name": "stdout",
     "output_type": "stream",
     "text": [
      "Intercept: \n",
      " 104548.40006859203\n",
      "Coefficients: \n",
      " [ -564.49929635 -1140.38354739  -564.49929635]\n"
     ]
    }
   ],
   "source": [
    "regr = linear_model.LinearRegression()\n",
    "regr.fit(X, Y)\n",
    "\n",
    "print('Intercept: \\n', regr.intercept_)\n",
    "print('Coefficients: \\n', regr.coef_)"
   ]
  },
  {
   "cell_type": "code",
   "execution_count": 26,
   "id": "9853d7cf",
   "metadata": {},
   "outputs": [
    {
     "name": "stdout",
     "output_type": "stream",
     "text": [
      "                            OLS Regression Results                            \n",
      "==============================================================================\n",
      "Dep. Variable:                 median   R-squared:                       0.001\n",
      "Model:                            OLS   Adj. R-squared:                 -0.000\n",
      "Method:                 Least Squares   F-statistic:                    0.6522\n",
      "Date:                Wed, 25 May 2022   Prob (F-statistic):              0.582\n",
      "Time:                        20:08:51   Log-Likelihood:                -39639.\n",
      "No. Observations:                3084   AIC:                         7.929e+04\n",
      "Df Residuals:                    3080   BIC:                         7.931e+04\n",
      "Df Model:                           3                                         \n",
      "Covariance Type:            nonrobust                                         \n",
      "================================================================================\n",
      "                   coef    std err          t      P>|t|      [0.025      0.975]\n",
      "--------------------------------------------------------------------------------\n",
      "const         1.045e+05   2113.135     49.475      0.000       1e+05    1.09e+05\n",
      "burger_count  -564.4993   1025.284     -0.551      0.582   -2574.810    1445.811\n",
      "hotdog_count -1140.3835    857.928     -1.329      0.184   -2822.553     541.786\n",
      "mex_count     -564.4993   1025.284     -0.551      0.582   -2574.810    1445.811\n",
      "==============================================================================\n",
      "Omnibus:                      613.209   Durbin-Watson:                   2.050\n",
      "Prob(Omnibus):                  0.000   Jarque-Bera (JB):             1042.838\n",
      "Skew:                           1.404   Prob(JB):                    3.55e-227\n",
      "Kurtosis:                       3.477   Cond. No.                         2.94\n",
      "==============================================================================\n",
      "\n",
      "Notes:\n",
      "[1] Standard Errors assume that the covariance matrix of the errors is correctly specified.\n"
     ]
    },
    {
     "name": "stderr",
     "output_type": "stream",
     "text": [
      "C:\\Users\\julie\\anaconda3\\envs\\PythonData\\lib\\site-packages\\statsmodels\\tsa\\tsatools.py:142: FutureWarning: In a future version of pandas all arguments of concat except for the argument 'objs' will be keyword-only\n",
      "  x = pd.concat(x[::order], 1)\n"
     ]
    }
   ],
   "source": [
    "# with statsmodels\n",
    "X = sm.add_constant(X) # adding a constant\n",
    " \n",
    "model = sm.OLS(Y, X).fit()\n",
    "predictions = model.predict(X) \n",
    " \n",
    "print_model = model.summary()\n",
    "print(print_model)"
   ]
  }
 ],
 "metadata": {
  "kernelspec": {
   "display_name": "PythonData",
   "language": "python",
   "name": "pythondata"
  },
  "language_info": {
   "codemirror_mode": {
    "name": "ipython",
    "version": 3
   },
   "file_extension": ".py",
   "mimetype": "text/x-python",
   "name": "python",
   "nbconvert_exporter": "python",
   "pygments_lexer": "ipython3",
   "version": "3.7.11"
  }
 },
 "nbformat": 4,
 "nbformat_minor": 5
}
