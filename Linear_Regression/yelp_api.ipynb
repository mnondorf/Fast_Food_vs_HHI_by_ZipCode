{
 "cells": [
  {
   "cell_type": "code",
   "execution_count": 1,
   "id": "2a2b3610",
   "metadata": {},
   "outputs": [],
   "source": [
    "import requests\n",
    "import pandas as pd\n",
    "import json\n",
    "import numpy as np\n",
    "\n",
    "\n",
    "from config import YELP_API_key"
   ]
  },
  {
   "cell_type": "code",
   "execution_count": 2,
   "id": "3711ef13",
   "metadata": {},
   "outputs": [],
   "source": [
    "df = pd.read_csv('cleaned_HH_income.csv')"
   ]
  },
  {
   "cell_type": "code",
   "execution_count": 4,
   "id": "0cbc019f",
   "metadata": {},
   "outputs": [
    {
     "ename": "NameError",
     "evalue": "name 'zips_data_list' is not defined",
     "output_type": "error",
     "traceback": [
      "\u001b[1;31m---------------------------------------------------------------------------\u001b[0m",
      "\u001b[1;31mNameError\u001b[0m                                 Traceback (most recent call last)",
      "\u001b[1;32m~\\AppData\\Local\\Temp\\ipykernel_5832\\3889780989.py\u001b[0m in \u001b[0;36m<module>\u001b[1;34m\u001b[0m\n\u001b[0;32m     13\u001b[0m \u001b[1;31m#6:13\u001b[0m\u001b[1;33m\u001b[0m\u001b[1;33m\u001b[0m\u001b[1;33m\u001b[0m\u001b[0m\n\u001b[0;32m     14\u001b[0m \u001b[1;31m# Include 2 addresses and 500 results\u001b[0m\u001b[1;33m\u001b[0m\u001b[1;33m\u001b[0m\u001b[1;33m\u001b[0m\u001b[0m\n\u001b[1;32m---> 15\u001b[1;33m \u001b[0maddresses\u001b[0m \u001b[1;33m=\u001b[0m \u001b[0mzips_data_list\u001b[0m\u001b[1;33m\u001b[0m\u001b[1;33m\u001b[0m\u001b[0m\n\u001b[0m\u001b[0;32m     16\u001b[0m \u001b[0moffset\u001b[0m \u001b[1;33m=\u001b[0m \u001b[0mnp\u001b[0m\u001b[1;33m.\u001b[0m\u001b[0marange\u001b[0m\u001b[1;33m(\u001b[0m\u001b[1;36m0\u001b[0m\u001b[1;33m,\u001b[0m\u001b[1;36m100\u001b[0m\u001b[1;33m,\u001b[0m\u001b[1;36m50\u001b[0m\u001b[1;33m)\u001b[0m\u001b[1;33m\u001b[0m\u001b[1;33m\u001b[0m\u001b[0m\n\u001b[0;32m     17\u001b[0m \u001b[1;31m# Create list of tuples of combinations between addresses and offset\u001b[0m\u001b[1;33m\u001b[0m\u001b[1;33m\u001b[0m\u001b[1;33m\u001b[0m\u001b[0m\n",
      "\u001b[1;31mNameError\u001b[0m: name 'zips_data_list' is not defined"
     ]
    }
   ],
   "source": [
    "# Define the API key, Endpoint, and Header\n",
    "key = YELP_API_key\n",
    "url = 'https://api.yelp.com/v3/businesses/search'\n",
    "headers = {'Authorization':'bearer %s' % key}\n",
    "\n",
    "\n",
    "\n",
    "\n",
    "\n",
    "#6:13\n",
    "# Reading in the zip code csv file that we extracted from the HH Income dataset\n",
    "#I'll send these after\n",
    "#6:13\n",
    "# Include 2 addresses and 500 results\n",
    "addresses = zips_data_list\n",
    "offset = np.arange(0,100,50)\n",
    "# Create list of tuples of combinations between addresses and offset\n",
    "tuples = list(product(addresses, offset))\n",
    "#6:14\n",
    "# Use a for loop store results into list of lists, and turn that into a DF\n",
    "# Empty list\n",
    "list = []\n",
    "\n",
    "# Future DF columns\n",
    "cols = ['Name', 'Type', 'Address', 'Zip Code']\n",
    "\n",
    "\n",
    "# for loop\n",
    "for address, step in tuples:\n",
    "    search_parameters = {\n",
    "        'location': address,\n",
    "        'term': 'fast food',\n",
    "        'radius': 8000,\n",
    "        'limit': 50,\n",
    "        'offset': step}\n",
    "    resp = r.get(url, headers=headers, params=search_parameters)\n",
    "    raw_data = resp.json()"
   ]
  },
  {
   "cell_type": "code",
   "execution_count": null,
   "id": "083e07f2",
   "metadata": {},
   "outputs": [],
   "source": []
  },
  {
   "cell_type": "code",
   "execution_count": null,
   "id": "1ec4ef29",
   "metadata": {},
   "outputs": [],
   "source": [
    "# Include 2 addresses and 500 results\n",
    "df = pd.read_csv('zips_6k_above.csv')\n",
    "\n",
    "addresses = zips_data_list\n",
    "offset = np.arange(0,100,50)\n",
    "# Create list of tuples of combinations between addresses and offset\n",
    "tuples = list(product(addresses, offset))"
   ]
  },
  {
   "cell_type": "code",
   "execution_count": null,
   "id": "4a9016ba",
   "metadata": {},
   "outputs": [],
   "source": [
    "# Use a for loop store results into list of lists, and turn that into a DF\n",
    "# Empty list\n",
    "list = []\n",
    "# Future DF columns\n",
    "cols = ['Name', 'Type', 'Address', 'Zip Code']"
   ]
  },
  {
   "cell_type": "code",
   "execution_count": null,
   "id": "d4b53772",
   "metadata": {},
   "outputs": [],
   "source": [
    "# for loop\n",
    "for address, step in tuples:\n",
    "    search_parameters = {\n",
    "        'location': address,\n",
    "        'term': 'fast food',\n",
    "        'radius': 8000,\n",
    "        'limit': 50,\n",
    "        'offset': step}\n",
    "    resp = r.get(url, headers=headers, params=search_parameters)\n",
    "    raw_data = resp.json()"
   ]
  },
  {
   "cell_type": "code",
   "execution_count": null,
   "id": "248468f3",
   "metadata": {},
   "outputs": [],
   "source": [
    "    for business in raw_data['businesses']:\n",
    "        name = business['name'],\n",
    "        food_type = business['categories'][0]['alias']\n",
    "        address = business['location']['address1'],\n",
    "        zip_code = business['location']['zip_code'],\n",
    "        list.append([name, food_type, address, zip_code])\n",
    "    df = pd.DataFrame.from_records(list, index='Name', columns=cols)\n",
    "print(f'Total Records: {len(df)}')\n",
    "df.head()"
   ]
  },
  {
   "cell_type": "code",
   "execution_count": null,
   "id": "250322e9",
   "metadata": {},
   "outputs": [],
   "source": [
    "display(df.info)\n",
    "display(df.describe)"
   ]
  }
 ],
 "metadata": {
  "kernelspec": {
   "display_name": "PythonData",
   "language": "python",
   "name": "pythondata"
  },
  "language_info": {
   "codemirror_mode": {
    "name": "ipython",
    "version": 3
   },
   "file_extension": ".py",
   "mimetype": "text/x-python",
   "name": "python",
   "nbconvert_exporter": "python",
   "pygments_lexer": "ipython3",
   "version": "3.7.11"
  }
 },
 "nbformat": 4,
 "nbformat_minor": 5
}
