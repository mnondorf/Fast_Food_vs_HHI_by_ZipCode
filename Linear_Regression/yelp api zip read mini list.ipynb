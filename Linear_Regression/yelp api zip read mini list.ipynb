{
 "cells": [
  {
   "cell_type": "code",
   "execution_count": 1,
   "id": "4a30b0e5",
   "metadata": {
    "scrolled": true
   },
   "outputs": [],
   "source": [
    "# Import the requests library.\n",
    "import requests as r\n",
    "import pandas as pd\n",
    "import numpy as np\n",
    "from itertools import product\n",
    "# Import the API key.\n",
    "from config import YELP_API_key\n",
    "\n",
    "\n",
    "# Define the API key, Endpoint, and Header\n",
    "key = YELP_API_key\n",
    "url = 'https://api.yelp.com/v3/businesses/search'\n",
    "headers = {'Authorization':'bearer %s' % key}\n",
    "## Reading in the zip code csv file that we extracted from the HH Income dataset\n",
    "zips_data_df = pd.read_csv('tiny_zips_for_Julie.csv',index_col=None,dtype={\"Zip_Code\":\"string\"})"
   ]
  },
  {
   "cell_type": "code",
   "execution_count": 2,
   "id": "153eb120",
   "metadata": {},
   "outputs": [],
   "source": [
    "# Include 2 addresses and 500 results\n",
    "addresses = zips_data_df\n",
    "offset = np.arange(0,100,50)\n",
    "# Create list of tuples of combinations between addresses and offset\n",
    "tuples = list(product(addresses, offset))"
   ]
  },
  {
   "cell_type": "code",
   "execution_count": 3,
   "id": "087cc73b",
   "metadata": {},
   "outputs": [],
   "source": [
    "# Empty list\n",
    "list = []\n",
    "# Future DF columns\n",
    "cols = ['Name', 'Type', 'Address', 'Zip Code']\n",
    "# for loop"
   ]
  },
  {
   "cell_type": "code",
   "execution_count": 10,
   "id": "edf8fb93",
   "metadata": {
    "scrolled": true
   },
   "outputs": [
    {
     "name": "stdout",
     "output_type": "stream",
     "text": [
      "01050\n",
      "01069\n",
      "01056\n",
      "01020\n",
      "01013\n",
      "01040\n",
      "01022\n",
      "01077\n",
      "01030\n",
      "01001\n",
      "01036\n",
      "01002\n",
      "01033\n",
      "01075\n",
      "01035\n",
      "01062\n",
      "01060\n",
      "01027\n",
      "01038\n",
      "01005\n",
      "Total Records: 224\n"
     ]
    },
    {
     "data": {
      "text/html": [
       "<div>\n",
       "<style scoped>\n",
       "    .dataframe tbody tr th:only-of-type {\n",
       "        vertical-align: middle;\n",
       "    }\n",
       "\n",
       "    .dataframe tbody tr th {\n",
       "        vertical-align: top;\n",
       "    }\n",
       "\n",
       "    .dataframe thead th {\n",
       "        text-align: right;\n",
       "    }\n",
       "</style>\n",
       "<table border=\"1\" class=\"dataframe\">\n",
       "  <thead>\n",
       "    <tr style=\"text-align: right;\">\n",
       "      <th></th>\n",
       "      <th>Type</th>\n",
       "      <th>Address</th>\n",
       "      <th>Zip Code</th>\n",
       "    </tr>\n",
       "    <tr>\n",
       "      <th>Name</th>\n",
       "      <th></th>\n",
       "      <th></th>\n",
       "      <th></th>\n",
       "    </tr>\n",
       "  </thead>\n",
       "  <tbody>\n",
       "    <tr>\n",
       "      <th>(McDonald's,)</th>\n",
       "      <td>coffee</td>\n",
       "      <td>(1184 Thorndike St,)</td>\n",
       "      <td>(01069,)</td>\n",
       "    </tr>\n",
       "    <tr>\n",
       "      <th>(Gin Mill,)</th>\n",
       "      <td>divebars</td>\n",
       "      <td>(3095 Main St,)</td>\n",
       "      <td>(01069,)</td>\n",
       "    </tr>\n",
       "    <tr>\n",
       "      <th>(Steaming Tender,)</th>\n",
       "      <td>tradamerican</td>\n",
       "      <td>(28 Depot St,)</td>\n",
       "      <td>(01069,)</td>\n",
       "    </tr>\n",
       "    <tr>\n",
       "      <th>(Domino's Pizza,)</th>\n",
       "      <td>chicken_wings</td>\n",
       "      <td>(1219 Thorndike St,)</td>\n",
       "      <td>(01069,)</td>\n",
       "    </tr>\n",
       "    <tr>\n",
       "      <th>(Roadside Pizza &amp; Grinders,)</th>\n",
       "      <td>pizza</td>\n",
       "      <td>(1037 Thorndike St,)</td>\n",
       "      <td>(01069,)</td>\n",
       "    </tr>\n",
       "  </tbody>\n",
       "</table>\n",
       "</div>"
      ],
      "text/plain": [
       "                                       Type               Address  Zip Code\n",
       "Name                                                                       \n",
       "(McDonald's,)                        coffee  (1184 Thorndike St,)  (01069,)\n",
       "(Gin Mill,)                        divebars       (3095 Main St,)  (01069,)\n",
       "(Steaming Tender,)             tradamerican        (28 Depot St,)  (01069,)\n",
       "(Domino's Pizza,)             chicken_wings  (1219 Thorndike St,)  (01069,)\n",
       "(Roadside Pizza & Grinders,)          pizza  (1037 Thorndike St,)  (01069,)"
      ]
     },
     "execution_count": 10,
     "metadata": {},
     "output_type": "execute_result"
    }
   ],
   "source": [
    "for index, row in  addresses.iterrows():\n",
    "    current_zip = row['Zip_Code']\n",
    "    search_parameters = {\n",
    "        'location': current_zip,\n",
    "        'term': 'fast food',\n",
    "        'radius': 5000,\n",
    "        'limit': 50,\n",
    "        'offset': index}\n",
    "    resp = r.get(url, headers=headers, params=search_parameters)\n",
    "    raw_data = resp.json()\n",
    "    print(current_zip)\n",
    "    try:\n",
    "         for business in raw_data['businesses']:\n",
    "                name = business['name'],\n",
    "                food_type = business['categories'][0]['alias']\n",
    "                address = business['location']['address1'],\n",
    "                zip_code = business['location']['zip_code'],\n",
    "                list.append([name, food_type, address, zip_code])\n",
    "    except KeyError as e:\n",
    "        print (f\"Caught an error at line {e}\")\n",
    "        pass\n",
    "df = pd.DataFrame.from_records(list, index='Name', columns=cols)\n",
    "print(f'Total Records: {len(df)}')\n",
    "df.head()"
   ]
  },
  {
   "cell_type": "code",
   "execution_count": 5,
   "id": "ca506750",
   "metadata": {},
   "outputs": [
    {
     "name": "stdout",
     "output_type": "stream",
     "text": [
      "['coffee' 'divebars' 'tradamerican' 'chicken_wings' 'pizza' 'sandwiches'\n",
      " 'diners' 'burgers' 'hotdogs' 'markets' 'icecream' 'mexican' 'cafes'\n",
      " 'convenience' 'servicestations' 'seafood' 'pubs' 'chinese' 'delis'\n",
      " 'cocktailbars' 'breakfast_brunch' 'bars' 'italian']\n",
      "[('1184 Thorndike St',) ('3095 Main St',) ('28 Depot St',)\n",
      " ('1219 Thorndike St',) ('1037 Thorndike St',) ('1049 Thorndike St',)\n",
      " ('1315 Park St',) ('419 Center St',) ('481 Center St',)\n",
      " ('631 Center St',) ('862 East St',) ('477 Center St',)\n",
      " ('1782 Westover Rd',) ('1307 Memorial Dr',) ('1535 Memorial Dr',)\n",
      " ('530 Memorial Dr',) ('1483 Granby Rd',) ('665 Boston Rd',)\n",
      " ('639 Memorial Dr',) ('555 Memorial Dr',) ('1460 Memorial Dr',)\n",
      " ('474 B Memorial Dr',) ('1290 Saint James Ave',) ('1048 Granby Rd',)\n",
      " ('1142 Berkshire Ave',) ('1116 StJames Ave',) ('350 Burnett Rd',)\n",
      " ('771 Page Blvd',) ('1375 Carew St',) ('1525 Memorial Dr',)\n",
      " ('755 Page Blvd',) ('1284 Memorial Dr',) ('1395 Liberty St',)\n",
      " ('757 Boston Road',) ('727 Boston Rd',) ('809 Boston Rd',)\n",
      " ('50 Holyoke St',) ('2199 Northampton St',) ('235 Whiting Farms Rd',)\n",
      " ('786 Memorial Dr.',) ('935 Riverdale Street',) ('1471 Memorial Drive',)\n",
      " ('931 Riverdale St',) ('935 Riverdale St',) ('1048 Riverdale St',)\n",
      " ('983 Riverdale St',) ('2175 Northampton St',) ('25 Morgan Road',)\n",
      " ('2392 Main St',) ('27 Holyoke St',) ('233 Whiting Farms Rd',)\n",
      " ('33 Border Way',) ('2194 N Hampton St',) ('2241 N Hampton St',)\n",
      " ('632 State St',) ('777 Meadow St',) ('352 Riverdale Rd',)\n",
      " ('167 Chicopee St',) ('4 Kendall St',) ('1068 Riverdale St',)\n",
      " ('782 State St',) ('757 Riverdale St',) ('1053 Riverdale St',)\n",
      " ('633 Liberty St.',) ('660 Liberty St',) ('2177 Northampton St',)\n",
      " ('2433 Main Street',) ('232 Lyman St',) ('37 Commercial St',)\n",
      " ('98 Union St',) ('90 William St',) ('429 Memorial Ave',)\n",
      " ('34 Enfield St',) ('232 Worthington St',) ('95 Elm St',)\n",
      " ('916 Suffield St',) ('1236 Main St',) ('820 W Columbus Ave',)\n",
      " ('1208 Main St',) ('1305 Memorial Ave',) ('1 Bridge St',)]\n",
      "[('01069',) ('01056',) ('01020',) ('01119',) ('01104',) ('01151',)\n",
      " ('01109',) ('01040',) ('01089',) ('01107',) ('01013',) ('01105',)\n",
      " ('01103',) ('01027',) ('06082',) ('01001',) ('01060',)]\n"
     ]
    }
   ],
   "source": [
    "#df.sort_values(by='Zip Code')\n",
    "#df['Zip Code'].nunique()\n",
    "for col in df:\n",
    "  print(df[col].unique())"
   ]
  },
  {
   "cell_type": "code",
   "execution_count": 6,
   "id": "897e00c7",
   "metadata": {},
   "outputs": [],
   "source": [
    "###for index, row in  addresses.iterrows():\n",
    "    #current_zip = row['Zip_Code']\n",
    "   # search_parameters = {\n",
    "  #      'location': current_zip,\n",
    " #       'term': 'fast food',\n",
    "#        'radius': 8000,\n",
    "#        'limit': 50,\n",
    "#        'offset': index}\n",
    "#    resp = r.get(url, headers=headers, params=search_parameters)\n",
    "#    raw_data = resp.json()\n",
    "#    try:\n",
    "#    for business in raw_data['businesses']:\n",
    "#        name = business['name'],\n",
    "#        food_type = business['categories'][0]['alias']\n",
    "#        address = business['location']['address1'],\n",
    "#        zip_code = business['location']['zip_code'],\n",
    "#        list.append([name, food_type, address, zip_code])\n",
    "#    df = pd.DataFrame.from_records(list, index='Name', columns=cols)\n",
    "#print(f'Total Records: {len(df)}')\n",
    "###df.head()"
   ]
  },
  {
   "cell_type": "code",
   "execution_count": 7,
   "id": "23015fb3",
   "metadata": {},
   "outputs": [
    {
     "data": {
      "text/plain": [
       "'01005'"
      ]
     },
     "execution_count": 7,
     "metadata": {},
     "output_type": "execute_result"
    }
   ],
   "source": [
    "current_zip"
   ]
  },
  {
   "cell_type": "code",
   "execution_count": 8,
   "id": "0dd634cd",
   "metadata": {},
   "outputs": [],
   "source": [
    "#df.head()\n",
    "#display(df.info)\n",
    "#display(df.describe)"
   ]
  }
 ],
 "metadata": {
  "kernelspec": {
   "display_name": "Python 3 (ipykernel)",
   "language": "python",
   "name": "python3"
  },
  "language_info": {
   "codemirror_mode": {
    "name": "ipython",
    "version": 3
   },
   "file_extension": ".py",
   "mimetype": "text/x-python",
   "name": "python",
   "nbconvert_exporter": "python",
   "pygments_lexer": "ipython3",
   "version": "3.7.11"
  }
 },
 "nbformat": 4,
 "nbformat_minor": 5
}
