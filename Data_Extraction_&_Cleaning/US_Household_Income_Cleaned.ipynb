{
 "cells": [
  {
   "cell_type": "code",
   "execution_count": 2,
   "id": "19053995",
   "metadata": {},
   "outputs": [],
   "source": [
    "import numpy as np \n",
    "import chardet\n",
    "import pandas as pd "
   ]
  },
  {
   "cell_type": "code",
   "execution_count": 3,
   "id": "d1035b3d",
   "metadata": {},
   "outputs": [],
   "source": [
    "# For Initial Pull of Raw Data\n",
    "with open('data/HH/kaggle_income.csv', 'rb') as f:\n",
    "    enc = chardet.detect(f.read())\n",
    "US_HH_Income_df = pd.read_csv('data/HH/kaggle_income.csv', encoding = enc['encoding'])\n",
    "US_HH_Income_df = US_HH_Income_df.set_index('State_ab')"
   ]
  },
  {
   "cell_type": "code",
   "execution_count": 4,
   "id": "e5d35824",
   "metadata": {},
   "outputs": [
    {
     "name": "stdout",
     "output_type": "stream",
     "text": [
      "There are 32526 rows and 18 columns\n"
     ]
    }
   ],
   "source": [
    "nRow, nCol = US_HH_Income_df.shape\n",
    "print(f'There are {nRow} rows and {nCol} columns')"
   ]
  },
  {
   "cell_type": "code",
   "execution_count": 5,
   "id": "f53763c6",
   "metadata": {
    "scrolled": true
   },
   "outputs": [
    {
     "data": {
      "text/plain": [
       "['id',\n",
       " 'State_Code',\n",
       " 'State_Name',\n",
       " 'County',\n",
       " 'City',\n",
       " 'Place',\n",
       " 'Type',\n",
       " 'Primary',\n",
       " 'Zip_Code',\n",
       " 'Area_Code',\n",
       " 'ALand',\n",
       " 'AWater',\n",
       " 'Lat',\n",
       " 'Lon',\n",
       " 'Mean',\n",
       " 'Median',\n",
       " 'Stdev',\n",
       " 'sum_w']"
      ]
     },
     "execution_count": 5,
     "metadata": {},
     "output_type": "execute_result"
    }
   ],
   "source": [
    "#US_HH_Income_df.dtypes\n",
    "US_HH_Income_df.columns.tolist()"
   ]
  },
  {
   "cell_type": "code",
   "execution_count": 12,
   "id": "97e01c75",
   "metadata": {},
   "outputs": [
    {
     "data": {
      "text/html": [
       "<div>\n",
       "<style scoped>\n",
       "    .dataframe tbody tr th:only-of-type {\n",
       "        vertical-align: middle;\n",
       "    }\n",
       "\n",
       "    .dataframe tbody tr th {\n",
       "        vertical-align: top;\n",
       "    }\n",
       "\n",
       "    .dataframe thead th {\n",
       "        text-align: right;\n",
       "    }\n",
       "</style>\n",
       "<table border=\"1\" class=\"dataframe\">\n",
       "  <thead>\n",
       "    <tr style=\"text-align: right;\">\n",
       "      <th></th>\n",
       "      <th>City</th>\n",
       "      <th>Zip_Code</th>\n",
       "      <th>Lat</th>\n",
       "      <th>Lon</th>\n",
       "      <th>Median</th>\n",
       "      <th>Stdev</th>\n",
       "    </tr>\n",
       "    <tr>\n",
       "      <th>State_ab</th>\n",
       "      <th></th>\n",
       "      <th></th>\n",
       "      <th></th>\n",
       "      <th></th>\n",
       "      <th></th>\n",
       "      <th></th>\n",
       "    </tr>\n",
       "  </thead>\n",
       "  <tbody>\n",
       "    <tr>\n",
       "      <th>AL</th>\n",
       "      <td>Chickasaw</td>\n",
       "      <td>36611</td>\n",
       "      <td>30.771450</td>\n",
       "      <td>-88.079697</td>\n",
       "      <td>30506</td>\n",
       "      <td>33101</td>\n",
       "    </tr>\n",
       "    <tr>\n",
       "      <th>AL</th>\n",
       "      <td>Louisville</td>\n",
       "      <td>36048</td>\n",
       "      <td>31.708516</td>\n",
       "      <td>-85.611039</td>\n",
       "      <td>19528</td>\n",
       "      <td>43789</td>\n",
       "    </tr>\n",
       "    <tr>\n",
       "      <th>AL</th>\n",
       "      <td>Columbiana</td>\n",
       "      <td>35051</td>\n",
       "      <td>33.191452</td>\n",
       "      <td>-86.615618</td>\n",
       "      <td>31930</td>\n",
       "      <td>57348</td>\n",
       "    </tr>\n",
       "    <tr>\n",
       "      <th>AL</th>\n",
       "      <td>Satsuma</td>\n",
       "      <td>36572</td>\n",
       "      <td>30.874343</td>\n",
       "      <td>-88.009442</td>\n",
       "      <td>52814</td>\n",
       "      <td>47707</td>\n",
       "    </tr>\n",
       "    <tr>\n",
       "      <th>AL</th>\n",
       "      <td>Dauphin Island</td>\n",
       "      <td>36528</td>\n",
       "      <td>30.250913</td>\n",
       "      <td>-88.171268</td>\n",
       "      <td>67225</td>\n",
       "      <td>54270</td>\n",
       "    </tr>\n",
       "    <tr>\n",
       "      <th>...</th>\n",
       "      <td>...</td>\n",
       "      <td>...</td>\n",
       "      <td>...</td>\n",
       "      <td>...</td>\n",
       "      <td>...</td>\n",
       "      <td>...</td>\n",
       "    </tr>\n",
       "    <tr>\n",
       "      <th>WY</th>\n",
       "      <td>Pinedale</td>\n",
       "      <td>82941</td>\n",
       "      <td>42.957147</td>\n",
       "      <td>-109.651015</td>\n",
       "      <td>94509</td>\n",
       "      <td>50057</td>\n",
       "    </tr>\n",
       "    <tr>\n",
       "      <th>WY</th>\n",
       "      <td>Green River</td>\n",
       "      <td>82935</td>\n",
       "      <td>41.497363</td>\n",
       "      <td>-109.456039</td>\n",
       "      <td>300000</td>\n",
       "      <td>47849</td>\n",
       "    </tr>\n",
       "    <tr>\n",
       "      <th>WY</th>\n",
       "      <td>Lyman</td>\n",
       "      <td>82937</td>\n",
       "      <td>41.295517</td>\n",
       "      <td>-110.323344</td>\n",
       "      <td>70155</td>\n",
       "      <td>36558</td>\n",
       "    </tr>\n",
       "    <tr>\n",
       "      <th>WY</th>\n",
       "      <td>Worland</td>\n",
       "      <td>82401</td>\n",
       "      <td>44.014369</td>\n",
       "      <td>-107.956379</td>\n",
       "      <td>300000</td>\n",
       "      <td>50142</td>\n",
       "    </tr>\n",
       "    <tr>\n",
       "      <th>WY</th>\n",
       "      <td>Diamondville</td>\n",
       "      <td>83116</td>\n",
       "      <td>41.819843</td>\n",
       "      <td>-110.556212</td>\n",
       "      <td>70752</td>\n",
       "      <td>52272</td>\n",
       "    </tr>\n",
       "  </tbody>\n",
       "</table>\n",
       "<p>14664 rows × 6 columns</p>\n",
       "</div>"
      ],
      "text/plain": [
       "                    City Zip_Code        Lat         Lon  Median  Stdev\n",
       "State_ab                                                               \n",
       "AL             Chickasaw    36611  30.771450  -88.079697   30506  33101\n",
       "AL            Louisville    36048  31.708516  -85.611039   19528  43789\n",
       "AL            Columbiana    35051  33.191452  -86.615618   31930  57348\n",
       "AL               Satsuma    36572  30.874343  -88.009442   52814  47707\n",
       "AL        Dauphin Island    36528  30.250913  -88.171268   67225  54270\n",
       "...                  ...      ...        ...         ...     ...    ...\n",
       "WY              Pinedale    82941  42.957147 -109.651015   94509  50057\n",
       "WY           Green River    82935  41.497363 -109.456039  300000  47849\n",
       "WY                 Lyman    82937  41.295517 -110.323344   70155  36558\n",
       "WY               Worland    82401  44.014369 -107.956379  300000  50142\n",
       "WY          Diamondville    83116  41.819843 -110.556212   70752  52272\n",
       "\n",
       "[14664 rows x 6 columns]"
      ]
     },
     "execution_count": 12,
     "metadata": {},
     "output_type": "execute_result"
    }
   ],
   "source": [
    "# Cleaning the data\n",
    "\n",
    "# Drop unwanted columns\n",
    "US_HH_Income_df = US_HH_Income_df.drop([\"id\",'State_Code','State_Name','County','Place','Type','Primary',\n",
    "                                        'Area_Code','ALand','AWater','Mean','sum_w'], axis = 1)\n",
    "\n",
    "# Drop duplicate Zip Codes\n",
    "US_HH_Income_df = US_HH_Income_df.drop_duplicates([\"Zip_Code\"])\n",
    "\n",
    "# Drop PR and DC from DataFrame\n",
    "US_HH_Income_df = US_HH_Income_df.drop('PR')\n",
    "US_HH_Income_df = US_HH_Income_df.drop('DC')\n",
    "\n",
    "# Drop null values\n",
    "US_HH_Income_df= US_HH_Income_df.dropna()\n",
    "\n",
    "# Pad zip codes with fewer than 5 numbers with leading zeros\n",
    "US_HH_Income_df['Zip_Code'] = US_HH_Income_df['Zip_Code'].map(\"{:05d}\".format)\n",
    "\n",
    "US_HH_Income_df"
   ]
  },
  {
   "cell_type": "code",
   "execution_count": null,
   "id": "4620af00",
   "metadata": {},
   "outputs": [],
   "source": [
    "# Removing top clustering of Incomes at data limit\n",
    "Income_under_300k_df = US_HH_Income_df[(US_HH_Income_df[\"Median\"]<300000)]\n",
    "\n",
    "#Sorting to ensure accuracy\n",
    "Income_under_300k_df.sort_values(by=[\"Median\"])"
   ]
  },
  {
   "cell_type": "code",
   "execution_count": null,
   "id": "8092f330",
   "metadata": {},
   "outputs": [],
   "source": [
    "#Exporting the data as csv files\n",
    "\n",
    "US_HH_Income_df.to_csv('data/cleaned_HH_Income.csv', sep = ',', header = True)\n",
    "US_HH_Income_df.to_csv('data/cleaned_HH_Income_Zips_List.csv', columns = [\"Zip_Code\"], header = True)\n",
    "Income_under_300k_df.to_csv('data/HH/cleaned_HH_Income_under300k.csv', sep = ',', header = True)"
   ]
  }
 ],
 "metadata": {
  "kernelspec": {
   "display_name": "PythonData",
   "language": "python",
   "name": "pythondata"
  },
  "language_info": {
   "codemirror_mode": {
    "name": "ipython",
    "version": 3
   },
   "file_extension": ".py",
   "mimetype": "text/x-python",
   "name": "python",
   "nbconvert_exporter": "python",
   "pygments_lexer": "ipython3",
   "version": "3.9.7"
  }
 },
 "nbformat": 4,
 "nbformat_minor": 5
}
